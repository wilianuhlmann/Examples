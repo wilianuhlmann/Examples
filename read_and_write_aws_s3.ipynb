{
 "cells": [
  {
   "cell_type": "code",
   "execution_count": null,
   "id": "4c973e06-4f9f-4b91-adae-d83b23ba05bf",
   "metadata": {},
   "outputs": [],
   "source": [
    "bucket = \"my_bucket\"\n",
    "path = \"my_path\"\n",
    "\n",
    "# read from s3\n",
    "def read_from_s3(data):\n",
    "    data = data\n",
    "    path_file = \"path{}.csv\".format(uf)\n",
    "    data = \"s3://{}/{}\".format(bucket, path)\n",
    "    return data\n",
    "\n",
    "# writo to s3\n",
    "def upload_to_s3(key, file):\n",
    "    s3 = boto3.resource('s3')\n",
    "    data = open(file, \"rb\")\n",
    "    path = key + '/' + file\n",
    "    s3.Bucket(bucket).put_object(Key=path, Body=data)\n",
    "    return print(path)"
   ]
  }
 ],
 "metadata": {
  "kernelspec": {
   "display_name": "conda_python3",
   "language": "python",
   "name": "conda_python3"
  },
  "language_info": {
   "codemirror_mode": {
    "name": "ipython",
    "version": 3
   },
   "file_extension": ".py",
   "mimetype": "text/x-python",
   "name": "python",
   "nbconvert_exporter": "python",
   "pygments_lexer": "ipython3",
   "version": "3.8.12"
  }
 },
 "nbformat": 4,
 "nbformat_minor": 5
}
