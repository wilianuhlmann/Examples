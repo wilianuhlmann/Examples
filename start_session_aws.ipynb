{
 "cells": [
  {
   "cell_type": "code",
   "execution_count": 31,
   "id": "48839caf-217b-4ec7-80e5-d32aa586503e",
   "metadata": {},
   "outputs": [],
   "source": [
    "# https://boto3.amazonaws.com/v1/documentation/api/latest/guide/credentials.html\n",
    "# https://docs.aws.amazon.com/pt_br/cli/latest/userguide/cli-configure-profiles.html?icmpid=docs_sso_user_portal"
   ]
  },
  {
   "cell_type": "code",
   "execution_count": 1,
   "id": "559a3b39-8647-4565-8387-4fa23dcaaf70",
   "metadata": {},
   "outputs": [],
   "source": [
    "import boto3"
   ]
  },
  {
   "cell_type": "code",
   "execution_count": 5,
   "id": "63041cca-5792-435d-9a10-ae6df713b7e5",
   "metadata": {},
   "outputs": [],
   "source": [
    "def start_session_aws(tool):\n",
    "    # Don't forgot, configure .aws/credentials and your profile.\n",
    "    session = boto3.Session(profile_name = 'default') \n",
    "    tool = session.client(tool)\n",
    "    return tool"
   ]
  },
  {
   "cell_type": "code",
   "execution_count": 6,
   "id": "89b09605-0ed6-4c45-bedb-0c76fd413eda",
   "metadata": {},
   "outputs": [],
   "source": [
    "tool = 'textract'\n",
    "star = start_session_aws(tool)"
   ]
  },
  {
   "cell_type": "code",
   "execution_count": 7,
   "id": "37e3b24d-1cf9-401a-9f61-3a4405ef3a64",
   "metadata": {},
   "outputs": [
    {
     "name": "stdout",
     "output_type": "stream",
     "text": [
      "<botocore.client.Textract object at 0x7f3a97fabe20>\n"
     ]
    }
   ],
   "source": [
    "print(star)"
   ]
  }
 ],
 "metadata": {
  "kernelspec": {
   "display_name": "Python 3 (ipykernel)",
   "language": "python",
   "name": "python3"
  },
  "language_info": {
   "codemirror_mode": {
    "name": "ipython",
    "version": 3
   },
   "file_extension": ".py",
   "mimetype": "text/x-python",
   "name": "python",
   "nbconvert_exporter": "python",
   "pygments_lexer": "ipython3",
   "version": "3.10.6"
  }
 },
 "nbformat": 4,
 "nbformat_minor": 5
}
